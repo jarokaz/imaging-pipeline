{
 "cells": [
  {
   "cell_type": "markdown",
   "id": "48e55287-1681-448a-9415-a541ed70e2e1",
   "metadata": {},
   "source": [
    "# DICOM sandbox"
   ]
  },
  {
   "cell_type": "code",
   "execution_count": 14,
   "id": "8cfbb8bb-eca1-4d7d-90d9-058781f7aaf6",
   "metadata": {},
   "outputs": [],
   "source": [
    "import tensorflow as tf\n",
    "import numpy as np\n",
    "\n",
    "from pydicom import dcmread\n",
    "from pydicom.data import get_testdata_file"
   ]
  },
  {
   "cell_type": "code",
   "execution_count": 30,
   "id": "7675cf09-3730-4fd3-ac79-ad0c9f34840f",
   "metadata": {},
   "outputs": [],
   "source": [
    "dicom_image1 = 'gs://jk-imaging/data/shard1/00000000000000000024.dcm'"
   ]
  },
  {
   "cell_type": "code",
   "execution_count": 33,
   "id": "cb87118a-a7ad-4603-b465-09bd6b842762",
   "metadata": {},
   "outputs": [],
   "source": [
    "with tf.io.gfile.GFile(dicom_image1, \"rb\") as f:\n",
    "    ds = dcmread(f)"
   ]
  },
  {
   "cell_type": "code",
   "execution_count": 43,
   "id": "c77751f2-3183-4d75-882d-bfba23541469",
   "metadata": {},
   "outputs": [
    {
     "data": {
      "text/plain": [
       "['AccessionNumber',\n",
       " 'BitsAllocated',\n",
       " 'BitsStored',\n",
       " 'BodyPartExamined',\n",
       " 'Columns',\n",
       " 'ConversionType',\n",
       " 'HighBit',\n",
       " 'InstanceNumber',\n",
       " 'LossyImageCompression',\n",
       " 'LossyImageCompressionMethod',\n",
       " 'Modality',\n",
       " 'PatientAge',\n",
       " 'PatientBirthDate',\n",
       " 'PatientID',\n",
       " 'PatientName',\n",
       " 'PatientOrientation',\n",
       " 'PatientSex',\n",
       " 'PhotometricInterpretation',\n",
       " 'PixelData',\n",
       " 'PixelRepresentation',\n",
       " 'PixelSpacing',\n",
       " 'ReferringPhysicianName',\n",
       " 'Rows',\n",
       " 'SOPClassUID',\n",
       " 'SOPInstanceUID',\n",
       " 'SamplesPerPixel',\n",
       " 'SeriesDescription',\n",
       " 'SeriesInstanceUID',\n",
       " 'SeriesNumber',\n",
       " 'SpecificCharacterSet',\n",
       " 'StudyDate',\n",
       " 'StudyID',\n",
       " 'StudyInstanceUID',\n",
       " 'StudyTime',\n",
       " 'ViewPosition',\n",
       " '__array__',\n",
       " '__contains__',\n",
       " '__copy__',\n",
       " '__deepcopy__',\n",
       " '__delattr__',\n",
       " '__delitem__',\n",
       " '__dir__',\n",
       " '__enter__',\n",
       " '__eq__',\n",
       " '__exit__',\n",
       " '__format__',\n",
       " '__ge__',\n",
       " '__getattr__',\n",
       " '__getattribute__',\n",
       " '__getitem__',\n",
       " '__getstate__',\n",
       " '__gt__',\n",
       " '__init__',\n",
       " '__init_subclass__',\n",
       " '__iter__',\n",
       " '__le__',\n",
       " '__len__',\n",
       " '__lt__',\n",
       " '__ne__',\n",
       " '__new__',\n",
       " '__reduce__',\n",
       " '__reduce_ex__',\n",
       " '__repr__',\n",
       " '__setattr__',\n",
       " '__setitem__',\n",
       " '__setstate__',\n",
       " '__sizeof__',\n",
       " '__str__',\n",
       " '__subclasshook__',\n",
       " '__weakref__',\n",
       " '_character_set',\n",
       " '_convert_pixel_data_using_handler',\n",
       " '_convert_pixel_data_without_handler',\n",
       " '_copy_implementation',\n",
       " '_dataset_slice',\n",
       " '_do_pixel_data_conversion',\n",
       " '_pretty_str',\n",
       " '_set_file_meta',\n",
       " '_slice_dataset',\n",
       " 'add',\n",
       " 'add_new',\n",
       " 'clear',\n",
       " 'compress',\n",
       " 'convert_pixel_data',\n",
       " 'copy',\n",
       " 'data_element',\n",
       " 'decode',\n",
       " 'decompress',\n",
       " 'dir',\n",
       " 'elements',\n",
       " 'ensure_file_meta',\n",
       " 'fix_meta_info',\n",
       " 'formatted_lines',\n",
       " 'from_json',\n",
       " 'get',\n",
       " 'get_item',\n",
       " 'get_private_item',\n",
       " 'group_dataset',\n",
       " 'is_original_encoding',\n",
       " 'items',\n",
       " 'iterall',\n",
       " 'keys',\n",
       " 'overlay_array',\n",
       " 'pixel_array',\n",
       " 'pop',\n",
       " 'popitem',\n",
       " 'private_block',\n",
       " 'private_creators',\n",
       " 'remove_private_tags',\n",
       " 'save_as',\n",
       " 'set_original_encoding',\n",
       " 'setdefault',\n",
       " 'to_json',\n",
       " 'to_json_dict',\n",
       " 'top',\n",
       " 'trait_names',\n",
       " 'update',\n",
       " 'values',\n",
       " 'walk',\n",
       " 'waveform_array']"
      ]
     },
     "execution_count": 43,
     "metadata": {},
     "output_type": "execute_result"
    }
   ],
   "source": [
    "dir(ds)"
   ]
  },
  {
   "cell_type": "code",
   "execution_count": 34,
   "id": "0a9250cc-5a7b-487b-85aa-daa664cd8f52",
   "metadata": {},
   "outputs": [
    {
     "data": {
      "text/plain": [
       "(1024, 1024)"
      ]
     },
     "execution_count": 34,
     "metadata": {},
     "output_type": "execute_result"
    }
   ],
   "source": [
    "shape = ds.pixel_array.shape\n",
    "shape"
   ]
  },
  {
   "cell_type": "code",
   "execution_count": 35,
   "id": "dd6fd0c6-357f-4855-8bf3-397d6026f57b",
   "metadata": {},
   "outputs": [],
   "source": [
    "\n",
    "image_2d = ds.pixel_array.astype(float)\n",
    "image_2d_scaled = (np.maximum(image_2d,0) / image_2d.max()) * 255.0\n",
    "image_2d_scaled = np.uint8(image_2d_scaled)\n",
    "image_2d_scaled = np.expand_dims(image_2d_scaled, axis=2)"
   ]
  },
  {
   "cell_type": "code",
   "execution_count": 36,
   "id": "365790b7-1856-4416-b519-64b00b6b2859",
   "metadata": {},
   "outputs": [
    {
     "data": {
      "text/plain": [
       "(1024, 1024, 1)"
      ]
     },
     "execution_count": 36,
     "metadata": {},
     "output_type": "execute_result"
    }
   ],
   "source": [
    "image_2d_scaled.shape"
   ]
  },
  {
   "cell_type": "code",
   "execution_count": 38,
   "id": "0c91bafa-e185-43ab-ab5e-881adb00eca5",
   "metadata": {},
   "outputs": [],
   "source": [
    "png = tf.io.encode_png(image_2d_scaled)"
   ]
  },
  {
   "cell_type": "code",
   "execution_count": 39,
   "id": "9a48bdcb-f810-4bd9-b9fd-cc23efab7932",
   "metadata": {},
   "outputs": [],
   "source": [
    "output_path = '/home/jupyter/data/test_outputs/f1.png'\n",
    "\n",
    "with tf.io.gfile.GFile(output_path, \"wb\") as f:\n",
    "    f.write(png.numpy())"
   ]
  },
  {
   "cell_type": "code",
   "execution_count": null,
   "id": "3c1f14f9-59cc-48f1-a02a-a9f70cf8c3e1",
   "metadata": {},
   "outputs": [],
   "source": []
  },
  {
   "cell_type": "code",
   "execution_count": null,
   "id": "61897990-8827-4d00-bd56-2d4511f41011",
   "metadata": {},
   "outputs": [],
   "source": []
  },
  {
   "cell_type": "code",
   "execution_count": null,
   "id": "42c495ee-7195-4e91-8d6d-dbf190e21fbf",
   "metadata": {},
   "outputs": [],
   "source": [
    "if is16Bit:\n",
    "            # write the PNG file as a 16-bit greyscale \n",
    "            image_2d = ds.pixel_array.astype(np.double) \n",
    "            # # Rescaling grey scale between 0-255\n",
    "            image_2d_scaled =  (np.maximum(image_2d,0) / image_2d.max()) * 65535.0  \n",
    "            # # Convert to uint\n",
    "            shape = ds.pixel_array.shape\n",
    "            image_2d_scaled = np.uint16(image_2d_scaled) \n",
    "            with open(pngfile , 'wb') as png_file:\n",
    "                    if isRGB: \n",
    "                        w = png.Writer(shape[1], shape[0], greyscale=False,bitdepth=16)\n",
    "                    else: \n",
    "                        w = png.Writer(shape[1], shape[0], greyscale=True,bitdepth=16)\n",
    "                    w.write(png_file, image_2d_scaled)\n",
    "        else: \n",
    "            shape = ds.pixel_array.shape\n",
    "            # Convert to float to avoid overflow or underflow losses.\n",
    "            image_2d = ds.pixel_array.astype(float)\n",
    "            # Rescaling grey scale between 0-255\n",
    "            image_2d_scaled = (np.maximum(image_2d,0) / image_2d.max()) * 255.0\n",
    "            # onvert to uint\n",
    "            image_2d_scaled = np.uint8(image_2d_scaled)\n",
    "            # Write the PNG file\n",
    "            with open(pngfile , 'wb') as png_file:\n",
    "                    if isRGB: \n",
    "                        w = png.Writer(shape[1], shape[0], greyscale=False)\n",
    "                    else: \n",
    "                        w = png.Writer(shape[1], shape[0], greyscale=True)\n",
    "                    w.write(png_file, image_2d_scaled)"
   ]
  }
 ],
 "metadata": {
  "environment": {
   "kernel": "conda-root-py",
   "name": "common-cpu.m89",
   "type": "gcloud",
   "uri": "gcr.io/deeplearning-platform-release/base-cpu:m89"
  },
  "kernelspec": {
   "display_name": "Python [conda env:root] *",
   "language": "python",
   "name": "conda-root-py"
  },
  "language_info": {
   "codemirror_mode": {
    "name": "ipython",
    "version": 3
   },
   "file_extension": ".py",
   "mimetype": "text/x-python",
   "name": "python",
   "nbconvert_exporter": "python",
   "pygments_lexer": "ipython3",
   "version": "3.7.12"
  }
 },
 "nbformat": 4,
 "nbformat_minor": 5
}
